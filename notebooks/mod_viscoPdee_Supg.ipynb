{
 "cells": [
  {
   "cell_type": "code",
   "execution_count": 1,
   "metadata": {
    "colab": {
     "base_uri": "https://localhost:8080/"
    },
    "id": "9Od1C7_XJ7oe",
    "outputId": "d7f44ed3-01cb-4d44-d660-614cf13cadb5"
   },
   "outputs": [],
   "source": [
    "try:\n",
    "    import dolfinx\n",
    "except ImportError:\n",
    "    !wget \"https://github.com/fem-on-colab/fem-on-colab.github.io/raw/a312183/releases/fenicsx-install-real.sh\" -O \"/tmp/fenicsx-install.sh\" && bash \"/tmp/fenicsx-install.sh\"\n",
    "    import dolfinx"
   ]
  },
  {
   "cell_type": "code",
   "execution_count": 2,
   "metadata": {
    "colab": {
     "base_uri": "https://localhost:8080/"
    },
    "id": "GO1BoucjOj4S",
    "outputId": "986f28a2-82d6-4fa5-d49b-224d4440f840"
   },
   "outputs": [],
   "source": [
    "# try:\n",
    "#     import viskex\n",
    "# except ImportError:\n",
    "#     !pip3 install \"viskex@git+https://github.com/viskex/viskex.git@64c23fe\"\n",
    "#     import viskex"
   ]
  },
  {
   "cell_type": "code",
   "execution_count": 3,
   "metadata": {},
   "outputs": [
    {
     "data": {
      "text/plain": [
       "'\\n\\n'"
      ]
     },
     "execution_count": 3,
     "metadata": {},
     "output_type": "execute_result"
    }
   ],
   "source": [
    "'''\n",
    "\n",
    "'''"
   ]
  },
  {
   "cell_type": "code",
   "execution_count": 4,
   "metadata": {
    "colab": {
     "base_uri": "https://localhost:8080/"
    },
    "id": "mkrAgNQCKD3B",
    "outputId": "f472047a-fad8-4437-9643-b167953c1de6"
   },
   "outputs": [],
   "source": [
    "try:\n",
    "    import gmsh\n",
    "except ImportError:\n",
    "    !wget \"https://github.com/fem-on-colab/fem-on-colab.github.io/raw/a312183/releases/gmsh-install.sh\" -O \"/tmp/gmsh-install.sh\" && bash \"/tmp/gmsh-install.sh\"\n",
    "    import gmsh"
   ]
  },
  {
   "cell_type": "code",
   "execution_count": 5,
   "metadata": {
    "id": "YMRmX4yeKOck"
   },
   "outputs": [],
   "source": [
    "import basix.ufl\n",
    "import dolfinx.fem\n",
    "import dolfinx.fem.petsc\n",
    "import dolfinx.io\n",
    "import gmsh\n",
    "import mpi4py.MPI\n",
    "import numpy as np\n",
    "import numpy.typing\n",
    "import petsc4py.PETSc # PETSc (the Portable, Extensible Toolkit for Scientific Computation)\n",
    "import ufl\n",
    "from mpi4py import MPI"
   ]
  },
  {
   "cell_type": "markdown",
   "metadata": {},
   "source": [
    "**1. Geometry & Mesh**"
   ]
  },
  {
   "cell_type": "code",
   "execution_count": 6,
   "metadata": {
    "colab": {
     "base_uri": "https://localhost:8080/"
    },
    "id": "cFiNBATqKnTz",
    "outputId": "f802594c-3980-4103-a22c-4b511476cbd6"
   },
   "outputs": [
    {
     "name": "stdout",
     "output_type": "stream",
     "text": [
      "mesh.topology.dim =  2\n"
     ]
    }
   ],
   "source": [
    "# Unit square domain [0, 1] x [0, 1] with (20,20) mesh elements\n",
    "n_elements = 16\n",
    "mesh = dolfinx.mesh.create_unit_square(MPI.COMM_WORLD, n_elements, n_elements)\n",
    "# The resulting mesh object represents the discretized domain on which FEA will be performed\n",
    "print(\"mesh.topology.dim = \", mesh.topology.dim)\n",
    "# Create connectivities required by the rest of the code\n",
    "mesh.topology.create_connectivity(mesh.topology.dim - 1, mesh.topology.dim)"
   ]
  },
  {
   "cell_type": "code",
   "execution_count": 7,
   "metadata": {
    "colab": {
     "base_uri": "https://localhost:8080/"
    },
    "id": "CdhzlYNzKqSX",
    "outputId": "03214dd2-f427-4977-b746-4d0a123a14ef"
   },
   "outputs": [
    {
     "name": "stdout",
     "output_type": "stream",
     "text": [
      "mesh.geometry.dim =  2\n",
      "mesh.basix_cell() =  CellType.triangle\n"
     ]
    }
   ],
   "source": [
    "print(\"mesh.geometry.dim = \", mesh.geometry.dim)\n",
    "print(\"mesh.basix_cell() = \", mesh.basix_cell())\n",
    "\n",
    "# velocity space element\n",
    "V_element = basix.ufl.element(\"Lagrange\", mesh.basix_cell(), 1, shape=(mesh.geometry.dim, ))\n",
    "# Lagrange elements are commonly used for continuous function spaces\n",
    "# polynomial degree of the Lagrange element is 1\n",
    "\n",
    "# tensor space element\n",
    "Q_element = basix.ufl.element(\"Lagrange\", mesh.basix_cell(), 1, shape=(mesh.geometry.dim, mesh.geometry.dim), symmetry=True)\n",
    "# symmetry=True => symmetric tensor field in case of stress tensor in viscoelastic fluid models"
   ]
  },
  {
   "cell_type": "markdown",
   "metadata": {},
   "source": [
    "**2. Function Spaces**"
   ]
  },
  {
   "cell_type": "code",
   "execution_count": 8,
   "metadata": {
    "id": "uUMsvowKK0cQ"
   },
   "outputs": [],
   "source": [
    "# define the function space\n",
    "V = dolfinx.fem.functionspace(mesh, V_element)\n",
    "Q = dolfinx.fem.functionspace(mesh, Q_element)"
   ]
  },
  {
   "cell_type": "code",
   "execution_count": 9,
   "metadata": {
    "id": "n9qkYh0PK8rB"
   },
   "outputs": [],
   "source": [
    "#!zip -r /content/file.zip /content/test_u.bp\n",
    "#from google.colab import files\n",
    "#files.download(\"/content/file.zip\")\n"
   ]
  },
  {
   "cell_type": "code",
   "execution_count": 10,
   "metadata": {
    "id": "K_bQHsiDLZiB"
   },
   "outputs": [],
   "source": [
    "# interpolate velocity in the nodal value\n",
    "def u_eval(x: np.typing.NDArray[np.float64]) -> np.typing.NDArray[  # type: ignore[no-any-unimported]\n",
    "        petsc4py.PETSc.ScalarType]:\n",
    "    \"\"\"Return the flat velocity profile at the inlet.\"\"\"\n",
    "    values = np.zeros((2, x.shape[1]))\n",
    "    values[0, :] = np.sin(np.pi*x[0])\n",
    "    values[1, :] = -np.pi*x[1]* np.cos(np.pi*x[1])\n",
    "    return values\n",
    "\n",
    "u = dolfinx.fem.Function(V,name=\"velocity\")\n",
    "# u.interpolate(u_eval): Interpolates the u_eval function over the mesh, setting the values of u at the nodal points according to u_eval.\n",
    "u.interpolate(u_eval)\n",
    "\n",
    "with dolfinx.io.VTXWriter(mesh.comm,  f\"test_u.bp\", u) as vtx_u:\n",
    "    vtx_u.write(0)\n",
    "#https://fenicsproject.discourse.group/t/numerical-values-from-ufl-spatialcoordinate/11064/2"
   ]
  },
  {
   "cell_type": "markdown",
   "metadata": {},
   "source": [
    "**3. Shear Stress Tensor**"
   ]
  },
  {
   "cell_type": "code",
   "execution_count": 11,
   "metadata": {
    "id": "V8CwoaajR--i"
   },
   "outputs": [],
   "source": [
    "def tau11_eval(x: np.typing.NDArray[np.float64]) -> np.typing.NDArray[  # type: ignore[no-any-unimported]\n",
    "        petsc4py.PETSc.ScalarType]:\n",
    "    \"\"\"Return the flat velocity profile at the inlet.\"\"\"\n",
    "    values = np.zeros((1, x.shape[1]))\n",
    "    values[0, :] = np.sin(np.pi*x[0])\n",
    "    return values\n",
    "def tau12_eval(x: np.typing.NDArray[np.float64]) -> np.typing.NDArray[  # type: ignore[no-any-unimported]\n",
    "        petsc4py.PETSc.ScalarType]:\n",
    "    \"\"\"Return the flat velocity profile at the inlet.\"\"\"\n",
    "    values = np.zeros((1, x.shape[1]))\n",
    "    values[0, :] = - np.pi*x[1]*np.cos(np.pi*x[0])\n",
    "    return values\n",
    "def tau22_eval(x: np.typing.NDArray[np.float64]) -> np.typing.NDArray[  # type: ignore[no-any-unimported]\n",
    "        petsc4py.PETSc.ScalarType]:\n",
    "    \"\"\"Return the flat velocity profile at the inlet.\"\"\"\n",
    "    values = np.zeros((1, x.shape[1]))\n",
    "    values[0, :] = np.sin(np.pi*x[0])*np.cos(np.pi*x[1])\n",
    "    return values\n",
    "\n",
    "def tau_eval(x: np.typing.NDArray[np.float64]) -> np.typing.NDArray[  # type: ignore[no-any-unimported]\n",
    "        petsc4py.PETSc.ScalarType]:\n",
    "    values = np.zeros((4, x.shape[1]))\n",
    "   # using python reshape A B, B C become A B B C\n",
    "    values[0, :] = tau11_eval(x)\n",
    "    values[1, :] = tau12_eval(x) # tau12_eval(x)\n",
    "    values[2, :] = tau12_eval(x)\n",
    "    values[3, :] = tau22_eval(x)\n",
    "\n",
    "    return values"
   ]
  },
  {
   "cell_type": "markdown",
   "metadata": {},
   "source": [
    "**4. Boundary Conditions**"
   ]
  },
  {
   "cell_type": "code",
   "execution_count": 12,
   "metadata": {
    "colab": {
     "base_uri": "https://localhost:8080/"
    },
    "id": "d11KESyVV-2a",
    "outputId": "68de9885-b3cd-40a8-9b89-5272e8ac6d9b"
   },
   "outputs": [
    {
     "name": "stdout",
     "output_type": "stream",
     "text": [
      "boundary_facets =  [  0   3   4   6  12  14  23  25  37  39  54  56  74  76  97  99 123 125\n",
      " 152 154 184 186 219 221 257 259 298 300 342 344 389 391 438 439 441 484\n",
      " 486 526 528 565 567 601 603 634 636 664 666 691 693 715 717 736 738 754\n",
      " 756 769 771 781 783 790 792 796 798 799]\n"
     ]
    }
   ],
   "source": [
    "q_D = dolfinx.fem.Function(Q,name=\"stress\")\n",
    "q_D.interpolate(tau_eval)\n",
    "fdim = mesh.topology.dim - 1\n",
    "boundary_facets = dolfinx.mesh.locate_entities_boundary(mesh, fdim, lambda x: np.full(x.shape[1], True, dtype=bool))\n",
    "print(\"boundary_facets = \", boundary_facets)\n",
    "bc_D = dolfinx.fem.dirichletbc(q_D, dolfinx.fem.locate_dofs_topological(Q, fdim, boundary_facets))"
   ]
  },
  {
   "cell_type": "markdown",
   "metadata": {},
   "source": [
    "**5. Trial & Test Functions**"
   ]
  },
  {
   "cell_type": "code",
   "execution_count": 13,
   "metadata": {
    "id": "n66JkqsNP8TR"
   },
   "outputs": [],
   "source": [
    "psi = ufl.TestFunction(Q)\n",
    "tau = ufl.TrialFunction(Q)\n",
    "dx=ufl.Measure(\"dx\", domain=mesh, metadata={\"quadrature_degree\": 10})\n",
    "Wi = 0.9\n",
    "dt = 0.0001"
   ]
  },
  {
   "cell_type": "markdown",
   "metadata": {},
   "source": [
    "**6. Initial Condition**"
   ]
  },
  {
   "cell_type": "code",
   "execution_count": 14,
   "metadata": {
    "id": "thWgkmUX2ijH"
   },
   "outputs": [],
   "source": [
    "# Create initial condition\n",
    "q_n = dolfinx.fem.Function(Q)\n",
    "q_n.name = \"q_n\"\n",
    "dolfinx.fem.set_bc(q_n.vector, [bc_D])\n",
    "\n",
    "with dolfinx.io.XDMFFile(mesh.comm, \"initialStress.xdmf\", \"w\") as xdmf:\n",
    "    xdmf.write_mesh(mesh)\n",
    "    xdmf.write_function(q_n)\n"
   ]
  },
  {
   "cell_type": "code",
   "execution_count": 15,
   "metadata": {
    "id": "IhwISdZPPBkk"
   },
   "outputs": [],
   "source": [
    "formulation_one = False\n",
    "if formulation_one:\n",
    "\n",
    "  F = ufl.inner(tau,psi)*dx - dt*ufl.inner(ufl.dot(2*ufl.skew(ufl.grad(u)), tau),psi)*dx\n",
    "  # transport part\n",
    "  F+= dt*ufl.inner(ufl.dot(u,ufl.grad(tau)), psi)*dx\n",
    "\n",
    "  # to complete here there is kappa factor..\n",
    "  h = ufl.CellDiameter(mesh)\n",
    "  beta = 1e-2\n",
    "  stab  = beta* dt*h* ufl.inner(ufl.grad(tau),ufl.grad(psi))*dx\n",
    "  F+=stab\n",
    "\n",
    "  # see stabilization implemented PLS for the stress- need stabilization since it esplode!!\n",
    "  # PhD thesis\n",
    "  #https://orca.cardiff.ac.uk/id/eprint/118620/1/Theoretical%20and%20Computational%20Modelling%20of%20Compressible%20Viscoelastic%20Fluids%20-%20Alex%20Mackay%202018.pdf\n",
    "  # Code\n",
    "  #https://github.com/ATMackay/fenics/blob/master/lid-driven-cavity/comp_LDC.py\n",
    "  L = 1/Wi *dt* (ufl.inner(ufl.Identity(mesh.geometry.dim),psi)*dx - ufl.inner(2*ufl.skew(ufl.grad(u)),psi)*dx  )\n",
    "  L += 1/Wi* ufl.inner(q_n,psi)*dx"
   ]
  },
  {
   "cell_type": "code",
   "execution_count": 16,
   "metadata": {
    "id": "WYveZvTSSRcv"
   },
   "outputs": [],
   "source": [
    "def ConvectStress(u, tau):\n",
    "   return ufl.dot(u,ufl.grad(tau))- ufl.dot(ufl.grad(u), tau) - ufl.dot(tau, ufl.grad(u))\n",
    "\n",
    "lhs = (Wi/dt+1)*tau + Wi* ConvectStress(u,tau)\n",
    "rhs = Wi/dt* q_n + ufl.Identity(len(u))\n",
    "F = ufl.inner(lhs, psi)*dx\n",
    "L = ufl.inner(rhs,psi)*dx\n",
    "\n",
    "# SUPG stabilization\n",
    "h = ufl.CellDiameter(mesh)\n",
    "magnitudeVel = ufl.sqrt(ufl.dot(u,u))\n",
    "\n",
    "reg =1e-6\n",
    "alpha_supg = h /(magnitudeVel+reg)\n",
    "supg = ufl.inner( Wi*ufl.dot(u,ufl.grad(tau)), alpha_supg *ufl.dot(u, ufl.grad(psi)) )*dx\n",
    "F += supg"
   ]
  },
  {
   "cell_type": "code",
   "execution_count": 17,
   "metadata": {},
   "outputs": [],
   "source": [
    "!mkdir -p output"
   ]
  },
  {
   "cell_type": "code",
   "execution_count": 18,
   "metadata": {
    "id": "vvlUarkFRMzT"
   },
   "outputs": [],
   "source": [
    "from dolfinx.fem.petsc import LinearProblem\n",
    "\n",
    "xdmf = dolfinx.io.XDMFFile(mesh.comm, \"output/stressEvolution1.xdmf\", \"w\", encoding=dolfinx.io.XDMFFile.Encoding.ASCII)\n",
    "xdmf.write_mesh(mesh)\n",
    "\n",
    "class Velocity():\n",
    "\n",
    "  def __init__(self, t):\n",
    "    self.t = t\n",
    "\n",
    "  def __call__(self, x):\n",
    "    values = np.zeros((mesh.topology.dim , x.shape[1]), dtype=petsc4py.PETSc.ScalarType)\n",
    "    values[0] = np.exp(-0.1 * self.t) * np.sin(np.pi * x[0])\n",
    "    values[1] = np.pi * np.exp(-0.1 * self.t) * x[1] * np.cos(np.pi * x[0])\n",
    "    return values\n",
    "\n",
    "t = 0\n",
    "velocity = Velocity(t)\n",
    "u.interpolate(velocity)\n",
    "\n",
    "xdmf.write_function(q_n,t)\n",
    "num_dt = 10\n",
    "problem = LinearProblem(F, L, bcs=[bc_D], petsc_options={\"ksp_type\": \"preonly\", \"pc_type\": \"lu\"})\n",
    "for n in range(num_dt):\n",
    "    t+=dt\n",
    "    velocity.t =  t\n",
    "    u.interpolate(velocity)\n",
    "\n",
    "    qh = problem.solve()\n",
    "    qh.x.scatter_forward()\n",
    "\n",
    "    # Update solution at previous time step (u_n)\n",
    "    q_n.x.array[:] = qh.x.array\n",
    "    q_n.name=\"stress\"\n",
    "    xdmf.write_function(q_n,t)\n",
    "\n",
    "xdmf.close()"
   ]
  },
  {
   "cell_type": "code",
   "execution_count": 19,
   "metadata": {
    "id": "qwg7uLrSG3ia"
   },
   "outputs": [
    {
     "name": "stdout",
     "output_type": "stream",
     "text": [
      "L2-error: 1.98e+00\n",
      "H1-error: 2.18e+01\n",
      "Error_max: 2.65e+00\n"
     ]
    }
   ],
   "source": [
    "# we need to do the static case now..\n",
    "\n",
    "def convergence(uh,q_D):\n",
    "    \n",
    "  error_local = dolfinx.fem.assemble_scalar(dolfinx.fem.form((uh - q_D)**2 * ufl.dx))\n",
    "  error_localH1 = dolfinx.fem.assemble_scalar(dolfinx.fem.form((uh - q_D)**2 * ufl.dx + ufl.grad(uh - q_D)**2 * ufl.dx) )\n",
    "\n",
    "  error_L2 = numpy.sqrt(mesh.comm.allreduce(error_local, op=MPI.SUM))\n",
    "  error_H1 =  numpy.sqrt(mesh.comm.allreduce(error_localH1, op=MPI.SUM))\n",
    "    \n",
    "  if mesh.comm.rank == 0:\n",
    "      print(f\"L2-error: {error_L2:.2e}\")\n",
    "      print(f\"H1-error: {error_H1:.2e}\")\n",
    "\n",
    "  # Compute values at mesh vertices\n",
    "  error_max = mesh.comm.allreduce(numpy.max(numpy.abs(uh.x.array - q_D.x.array)), op=MPI.MAX)\n",
    "  if mesh.comm.rank == 0:\n",
    "      print(f\"Error_max: {error_max:.2e}\")\n",
    "\n",
    "convergence(qh,q_D)"
   ]
  },
  {
   "cell_type": "code",
   "execution_count": null,
   "metadata": {},
   "outputs": [],
   "source": []
  },
  {
   "cell_type": "code",
   "execution_count": null,
   "metadata": {},
   "outputs": [],
   "source": []
  }
 ],
 "metadata": {
  "colab": {
   "provenance": []
  },
  "kernelspec": {
   "display_name": "Python 3 (ipykernel)",
   "language": "python",
   "name": "python3"
  },
  "language_info": {
   "codemirror_mode": {
    "name": "ipython",
    "version": 3
   },
   "file_extension": ".py",
   "mimetype": "text/x-python",
   "name": "python",
   "nbconvert_exporter": "python",
   "pygments_lexer": "ipython3",
   "version": "3.10.12"
  }
 },
 "nbformat": 4,
 "nbformat_minor": 4
}
